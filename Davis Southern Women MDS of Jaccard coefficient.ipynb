{
 "metadata": {
  "name": "",
  "signature": "sha256:35d5cc759c8b029f9d90fdee6152487e90ce4016b573cf5d0c714bcd7efa39d5"
 },
 "nbformat": 3,
 "nbformat_minor": 0,
 "worksheets": [
  {
   "cells": [
    {
     "cell_type": "markdown",
     "metadata": {},
     "source": [
      "This code is an attempt to reproduce the multidimensional scaling (MDS) of Jaccard coefficients among rows of DGG matrix as found page 7, figure 4 in the [2-Mode concepts in social network analysis publication](http://www.steveborgatti.com/research/publications/2modeconcepts.pdf?attredirects=0&d=1) of Stephen P. Borgatti. \n",
      "\n",
      "In his publication, Borgatti analyses with the help of Social Network Analysis (SNA) the data provided by the study by Davis, Gardner and Gardner (henceforth DGG) published in the 1941 book *Deep South* (see figure 1 in the publication). This data consists of the participation of 18 women in 14 events (such as meetings of a social club, a church event, a party and so on) during a nine-month period.\n",
      "\n",
      "I used the NetworkX Python Library [davis_southern_women_graph](https://github.com/networkx/networkx/blob/b7311f12a8b3ccbff3b80aae5c5d6973dec2e42d/networkx/generators/social.py#L110) function which generates a graph (i.e. nodes and edges) of this data."
     ]
    },
    {
     "cell_type": "code",
     "collapsed": false,
     "input": [
      "import csv\n",
      "import numpy as np\n",
      "import matplotlib.pyplot as plt\n",
      "import networkx as nx\n",
      "from networkx.algorithms import bipartite\n",
      "from sklearn import manifold\n",
      "\n",
      "DSW = nx.davis_southern_women_graph()"
     ],
     "language": "python",
     "metadata": {},
     "outputs": [],
     "prompt_number": 1
    },
    {
     "cell_type": "markdown",
     "metadata": {},
     "source": []
    },
    {
     "cell_type": "code",
     "collapsed": false,
     "input": [
      "DSW_women_list = [\"Evelyn Jefferson\", \"Laura Mandeville\", \"Theresa Anderson\", \"Brenda Rogers\", \"Charlotte McDowd\", \"Frances Anderson\", \"Eleanor Nye\", \"Pearl Oglethorpe\", \"Ruth DeSand\", \"Verne Sanderson\", \"Myra Liddel\",\n",
      "\"Katherina Rogers\", \"Sylvia Avondale\", \"Nora Fayette\", \"Helen Lloyd\", \"Dorothy Murchison\", \"Olivia Carleton\", \"Flora Price\"]\n",
      "DSW_jaccard = bipartite.overlap_weighted_projected_graph(DSW,DSW_women_list,jaccard=True) # Graphe de la matrice de co-affiliation des femmes corrig\u00e9 par le coefficient de Jaccard\n",
      "matrice = nx.to_numpy_matrix(DSW_jaccard, DSW_women_list) # on transforme le graphe en matrice Numpy (un tableau de tableau)\n",
      "matrice_array = np.array(matrice)\n",
      "# J'ai v\u00e9rifi\u00e9 que \"matrice\" contient les bonnes valeurs des coefficients de Jaccard\n",
      "matrice_max = np.amax(matrice) # = 1.0 on n'a pas besoin de diviser la matrice par ce maximum commme dans http://baoilleach.blogspot.fr/2014/01/convert-distance-matrix-to-2d.html\n",
      "mds_jaccard = manifold.MDS(n_components=2, dissimilarity=\"precomputed\", random_state=6)\n",
      "# On choisit precomputed quand on fournit la matrice des distances euclidiennes et que l'on a pas besoin que scikit-learn ne calcule cette matrice \u00e0 partir des donn\u00e9es\n",
      "# http://stackoverflow.com/questions/25192093/what-is-the-correct-input-to-scikit-learns-mds?answertab=active#tab-top\n",
      "# Mais la matrice des coefficients de Jaccard est-elle une matrice des distances euclidiennes ?\n",
      "# D'apr\u00e8s la documentation de la fonction pdist de MathWorks, le coefficient de Jaccard est un outil de mesure de distances entre deux donn\u00e9es comme l'est les distances euclidiennes\n",
      "# http://fr.mathworks.com/help/stats/pdist.html\n",
      "results_jaccard = mds_jaccard.fit(matrice_array)\n",
      "coords_jaccard = results_jaccard.embedding_\n",
      "coords_jaccard\n",
      "plt.subplots_adjust(bottom = 0.1)\n",
      "plt.scatter(\n",
      "    coords_jaccard[:, 0], coords_jaccard[:, 1], marker = 'o'\n",
      "    )\n",
      "for label, x, y in zip(DSW_women_list, coords_jaccard[:, 0], coords_jaccard[:, 1]):\n",
      "    plt.annotate(\n",
      "        label,\n",
      "        xy = (x, y), xytext = (-20, 20),\n",
      "        textcoords = 'offset points', ha = 'right', va = 'bottom',\n",
      "        bbox = dict(boxstyle = 'round,pad=0.5', fc = 'yellow', alpha = 0.5),\n",
      "        arrowprops = dict(arrowstyle = '->', connectionstyle = 'arc3,rad=0'))\n",
      "plt.show()"
     ],
     "language": "python",
     "metadata": {},
     "outputs": [
      {
       "ename": "NameError",
       "evalue": "name 'DSW' is not defined",
       "output_type": "pyerr",
       "traceback": [
        "\u001b[1;31m---------------------------------------------------------------------------\u001b[0m\n\u001b[1;31mNameError\u001b[0m                                 Traceback (most recent call last)",
        "\u001b[1;32m<ipython-input-5-5b9cdcf2f0e6>\u001b[0m in \u001b[0;36m<module>\u001b[1;34m()\u001b[0m\n\u001b[0;32m      2\u001b[0m DSW_women_list = [\"Evelyn Jefferson\", \"Laura Mandeville\", \"Theresa Anderson\", \"Brenda Rogers\", \"Charlotte McDowd\", \"Frances Anderson\", \"Eleanor Nye\", \"Pearl Oglethorpe\", \"Ruth DeSand\", \"Verne Sanderson\", \"Myra Liddel\",\n\u001b[0;32m      3\u001b[0m \"Katherina Rogers\", \"Sylvia Avondale\", \"Nora Fayette\", \"Helen Lloyd\", \"Dorothy Murchison\", \"Olivia Carleton\", \"Flora Price\"]\n\u001b[1;32m----> 4\u001b[1;33m \u001b[0mDSW_jaccard\u001b[0m \u001b[1;33m=\u001b[0m \u001b[0mbipartite\u001b[0m\u001b[1;33m.\u001b[0m\u001b[0moverlap_weighted_projected_graph\u001b[0m\u001b[1;33m(\u001b[0m\u001b[0mDSW\u001b[0m\u001b[1;33m,\u001b[0m\u001b[0mDSW_women_list\u001b[0m\u001b[1;33m,\u001b[0m\u001b[0mjaccard\u001b[0m\u001b[1;33m=\u001b[0m\u001b[0mTrue\u001b[0m\u001b[1;33m)\u001b[0m \u001b[1;31m# Graphe de la matrice de co-affiliation des femmes corrig\u00e9 par le coefficient de Jaccard\u001b[0m\u001b[1;33m\u001b[0m\u001b[0m\n\u001b[0m\u001b[0;32m      5\u001b[0m \u001b[0mmatrice\u001b[0m \u001b[1;33m=\u001b[0m \u001b[0mnx\u001b[0m\u001b[1;33m.\u001b[0m\u001b[0mto_numpy_matrix\u001b[0m\u001b[1;33m(\u001b[0m\u001b[0mDSW_jaccard\u001b[0m\u001b[1;33m,\u001b[0m \u001b[0mDSW_women_list\u001b[0m\u001b[1;33m)\u001b[0m \u001b[1;31m# on transforme le graphe en matrice Numpy (un tableau de tableau)\u001b[0m\u001b[1;33m\u001b[0m\u001b[0m\n\u001b[0;32m      6\u001b[0m \u001b[0mmatrice_array\u001b[0m \u001b[1;33m=\u001b[0m \u001b[0mnp\u001b[0m\u001b[1;33m.\u001b[0m\u001b[0marray\u001b[0m\u001b[1;33m(\u001b[0m\u001b[0mmatrice\u001b[0m\u001b[1;33m)\u001b[0m\u001b[1;33m\u001b[0m\u001b[0m\n",
        "\u001b[1;31mNameError\u001b[0m: name 'DSW' is not defined"
       ]
      }
     ],
     "prompt_number": 5
    },
    {
     "cell_type": "code",
     "collapsed": false,
     "input": [
      "import sys\n",
      "print 'hello from Python %s' % sys.version"
     ],
     "language": "python",
     "metadata": {},
     "outputs": [
      {
       "output_type": "stream",
       "stream": "stdout",
       "text": [
        "hello from Python 2.7.9 |Continuum Analytics, Inc.| (default, Dec 12 2014, 14:55:25) [MSC v.1500 64 bit (AMD64)]\n"
       ]
      }
     ],
     "prompt_number": 1
    },
    {
     "cell_type": "code",
     "collapsed": false,
     "input": [
      "%lsmagic"
     ],
     "language": "python",
     "metadata": {},
     "outputs": [
      {
       "json": [
        "{\"cell\": {\"prun\": \"ExecutionMagics\", \"file\": \"Other\", \"!\": \"OSMagics\", \"capture\": \"ExecutionMagics\", \"timeit\": \"ExecutionMagics\", \"script\": \"ScriptMagics\", \"pypy\": \"Other\", \"system\": \"OSMagics\", \"perl\": \"Other\", \"HTML\": \"Other\", \"bash\": \"Other\", \"python\": \"Other\", \"SVG\": \"Other\", \"javascript\": \"DisplayMagics\", \"writefile\": \"OSMagics\", \"ruby\": \"Other\", \"python3\": \"Other\", \"python2\": \"Other\", \"latex\": \"DisplayMagics\", \"sx\": \"OSMagics\", \"svg\": \"DisplayMagics\", \"cmd\": \"Other\", \"html\": \"DisplayMagics\", \"sh\": \"Other\", \"time\": \"ExecutionMagics\", \"debug\": \"ExecutionMagics\", \"powershell\": \"Other\"}, \"line\": {\"psource\": \"NamespaceMagics\", \"logstart\": \"LoggingMagics\", \"popd\": \"OSMagics\", \"loadpy\": \"CodeMagics\", \"install_ext\": \"ExtensionMagics\", \"colors\": \"BasicMagics\", \"who_ls\": \"NamespaceMagics\", \"install_profiles\": \"DeprecatedMagics\", \"ddir\": \"Other\", \"pprint\": \"BasicMagics\", \"ldir\": \"Other\", \"ls\": \"Other\", \"save\": \"CodeMagics\", \"tb\": \"ExecutionMagics\", \"cls\": \"KernelMagics\", \"pylab\": \"PylabMagics\", \"killbgscripts\": \"ScriptMagics\", \"quickref\": \"BasicMagics\", \"echo\": \"Other\", \"magic\": \"BasicMagics\", \"dhist\": \"OSMagics\", \"edit\": \"KernelMagics\", \"logstop\": \"LoggingMagics\", \"gui\": \"BasicMagics\", \"alias_magic\": \"BasicMagics\", \"debug\": \"ExecutionMagics\", \"page\": \"BasicMagics\", \"logstate\": \"LoggingMagics\", \"ed\": \"Other\", \"pushd\": \"OSMagics\", \"timeit\": \"ExecutionMagics\", \"rehashx\": \"OSMagics\", \"hist\": \"Other\", \"ren\": \"Other\", \"qtconsole\": \"KernelMagics\", \"dirs\": \"OSMagics\", \"run\": \"ExecutionMagics\", \"reset_selective\": \"NamespaceMagics\", \"pinfo2\": \"NamespaceMagics\", \"matplotlib\": \"PylabMagics\", \"automagic\": \"AutoMagics\", \"doctest_mode\": \"KernelMagics\", \"logoff\": \"LoggingMagics\", \"reload_ext\": \"ExtensionMagics\", \"pdb\": \"ExecutionMagics\", \"load\": \"CodeMagics\", \"lsmagic\": \"BasicMagics\", \"autosave\": \"KernelMagics\", \"cd\": \"OSMagics\", \"pastebin\": \"CodeMagics\", \"prun\": \"ExecutionMagics\", \"autocall\": \"AutoMagics\", \"bookmark\": \"OSMagics\", \"connect_info\": \"KernelMagics\", \"mkdir\": \"Other\", \"system\": \"OSMagics\", \"whos\": \"NamespaceMagics\", \"rmdir\": \"Other\", \"unload_ext\": \"ExtensionMagics\", \"store\": \"StoreMagics\", \"more\": \"KernelMagics\", \"pdef\": \"NamespaceMagics\", \"precision\": \"BasicMagics\", \"pinfo\": \"NamespaceMagics\", \"pwd\": \"OSMagics\", \"psearch\": \"NamespaceMagics\", \"copy\": \"Other\", \"reset\": \"NamespaceMagics\", \"recall\": \"HistoryMagics\", \"xdel\": \"NamespaceMagics\", \"xmode\": \"BasicMagics\", \"rerun\": \"HistoryMagics\", \"logon\": \"LoggingMagics\", \"history\": \"HistoryMagics\", \"pycat\": \"OSMagics\", \"unalias\": \"OSMagics\", \"install_default_config\": \"DeprecatedMagics\", \"env\": \"OSMagics\", \"load_ext\": \"ExtensionMagics\", \"config\": \"ConfigMagics\", \"profile\": \"BasicMagics\", \"pfile\": \"NamespaceMagics\", \"less\": \"KernelMagics\", \"who\": \"NamespaceMagics\", \"notebook\": \"BasicMagics\", \"sx\": \"OSMagics\", \"macro\": \"ExecutionMagics\", \"clear\": \"KernelMagics\", \"alias\": \"OSMagics\", \"time\": \"ExecutionMagics\", \"sc\": \"OSMagics\", \"rep\": \"Other\", \"pdoc\": \"NamespaceMagics\"}}"
       ],
       "metadata": {},
       "output_type": "pyout",
       "prompt_number": 2,
       "text": [
        "Available line magics:\n",
        "%alias  %alias_magic  %autocall  %automagic  %autosave  %bookmark  %cd  %clear  %cls  %colors  %config  %connect_info  %copy  %ddir  %debug  %dhist  %dirs  %doctest_mode  %echo  %ed  %edit  %env  %gui  %hist  %history  %install_default_config  %install_ext  %install_profiles  %killbgscripts  %ldir  %less  %load  %load_ext  %loadpy  %logoff  %logon  %logstart  %logstate  %logstop  %ls  %lsmagic  %macro  %magic  %matplotlib  %mkdir  %more  %notebook  %page  %pastebin  %pdb  %pdef  %pdoc  %pfile  %pinfo  %pinfo2  %popd  %pprint  %precision  %profile  %prun  %psearch  %psource  %pushd  %pwd  %pycat  %pylab  %qtconsole  %quickref  %recall  %rehashx  %reload_ext  %ren  %rep  %rerun  %reset  %reset_selective  %rmdir  %run  %save  %sc  %store  %sx  %system  %tb  %time  %timeit  %unalias  %unload_ext  %who  %who_ls  %whos  %xdel  %xmode\n",
        "\n",
        "Available cell magics:\n",
        "%%!  %%HTML  %%SVG  %%bash  %%capture  %%cmd  %%debug  %%file  %%html  %%javascript  %%latex  %%perl  %%powershell  %%prun  %%pypy  %%python  %%python2  %%python3  %%ruby  %%script  %%sh  %%svg  %%sx  %%system  %%time  %%timeit  %%writefile\n",
        "\n",
        "Automagic is ON, % prefix IS NOT needed for line magics."
       ]
      }
     ],
     "prompt_number": 2
    },
    {
     "cell_type": "code",
     "collapsed": false,
     "input": [],
     "language": "python",
     "metadata": {},
     "outputs": []
    }
   ],
   "metadata": {}
  }
 ]
}